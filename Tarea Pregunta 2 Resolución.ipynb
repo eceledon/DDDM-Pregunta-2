{
 "cells": [
  {
   "cell_type": "markdown",
   "metadata": {},
   "source": [
    "# Tarea DDDM - Pregunta 2"
   ]
  },
  {
   "cell_type": "markdown",
   "metadata": {},
   "source": [
    "#### Juan José Balsa, Enrique Celedón, Gustavo Hernández"
   ]
  },
  {
   "cell_type": "markdown",
   "metadata": {},
   "source": [
    " Cargamos el dataset desde Excel local"
   ]
  },
  {
   "cell_type": "code",
   "execution_count": 1,
   "metadata": {
    "scrolled": true
   },
   "outputs": [],
   "source": [
    "library(readxl)"
   ]
  },
  {
   "cell_type": "code",
   "execution_count": 2,
   "metadata": {
    "scrolled": true
   },
   "outputs": [],
   "source": [
    "eCar_df <- read_excel(\"C:/Users/EnriqueCeledónV/OneDrive - Locke/Documentos/U Chile - MIT/Módulo 3 - Data Driven Decision Making/Tarea Marcelo Olivares/datos_tarea_final_DDDM/datos P2/e_Car_Data_extract_forClass.xlsx\")"
   ]
  },
  {
   "cell_type": "code",
   "execution_count": 3,
   "metadata": {
    "scrolled": true
   },
   "outputs": [
    {
     "data": {
      "text/html": [
       "<table>\n",
       "<thead><tr><th scope=col>Tier</th><th scope=col>FICO</th><th scope=col>Approve Date</th><th scope=col>Term</th><th scope=col>Amount</th><th scope=col>Previous APR</th><th scope=col>Car  Type</th><th scope=col>Competition APR</th><th scope=col>Accept</th><th scope=col>APR</th><th scope=col>Prime</th><th scope=col>Partner Bin</th></tr></thead>\n",
       "<tbody>\n",
       "\t<tr><td>2         </td><td>702       </td><td>2002-07-02</td><td>60        </td><td>22000.00  </td><td>NA        </td><td>U         </td><td>5.85      </td><td>0         </td><td>6.19      </td><td>1.8388    </td><td>3         </td></tr>\n",
       "\t<tr><td>2         </td><td>710       </td><td>2002-07-03</td><td>60        </td><td>21000.00  </td><td>NA        </td><td>U         </td><td>5.85      </td><td>0         </td><td>6.19      </td><td>1.8388    </td><td>1         </td></tr>\n",
       "\t<tr><td>3         </td><td>693       </td><td>2002-07-06</td><td>60        </td><td>19597.95  </td><td>NA        </td><td>U         </td><td>5.85      </td><td>1         </td><td>7.29      </td><td>1.8400    </td><td>1         </td></tr>\n",
       "\t<tr><td>3         </td><td>696       </td><td>2002-07-06</td><td>60        </td><td>23071.00  </td><td>NA        </td><td>U         </td><td>5.85      </td><td>0         </td><td>7.29      </td><td>1.8400    </td><td>3         </td></tr>\n",
       "\t<tr><td>3         </td><td>697       </td><td>2002-07-08</td><td>60        </td><td>21577.70  </td><td>NA        </td><td>U         </td><td>5.80      </td><td>1         </td><td>7.29      </td><td>1.8400    </td><td>2         </td></tr>\n",
       "\t<tr><td>2         </td><td>702       </td><td>2002-07-08</td><td>60        </td><td>20211.04  </td><td>NA        </td><td>U         </td><td>5.80      </td><td>1         </td><td>6.19      </td><td>1.8400    </td><td>2         </td></tr>\n",
       "</tbody>\n",
       "</table>\n"
      ],
      "text/latex": [
       "\\begin{tabular}{r|llllllllllll}\n",
       " Tier & FICO & Approve Date & Term & Amount & Previous APR & Car  Type & Competition APR & Accept & APR & Prime & Partner Bin\\\\\n",
       "\\hline\n",
       "\t 2          & 702        & 2002-07-02 & 60         & 22000.00   & NA         & U          & 5.85       & 0          & 6.19       & 1.8388     & 3         \\\\\n",
       "\t 2          & 710        & 2002-07-03 & 60         & 21000.00   & NA         & U          & 5.85       & 0          & 6.19       & 1.8388     & 1         \\\\\n",
       "\t 3          & 693        & 2002-07-06 & 60         & 19597.95   & NA         & U          & 5.85       & 1          & 7.29       & 1.8400     & 1         \\\\\n",
       "\t 3          & 696        & 2002-07-06 & 60         & 23071.00   & NA         & U          & 5.85       & 0          & 7.29       & 1.8400     & 3         \\\\\n",
       "\t 3          & 697        & 2002-07-08 & 60         & 21577.70   & NA         & U          & 5.80       & 1          & 7.29       & 1.8400     & 2         \\\\\n",
       "\t 2          & 702        & 2002-07-08 & 60         & 20211.04   & NA         & U          & 5.80       & 1          & 6.19       & 1.8400     & 2         \\\\\n",
       "\\end{tabular}\n"
      ],
      "text/markdown": [
       "\n",
       "| Tier | FICO | Approve Date | Term | Amount | Previous APR | Car  Type | Competition APR | Accept | APR | Prime | Partner Bin |\n",
       "|---|---|---|---|---|---|---|---|---|---|---|---|\n",
       "| 2          | 702        | 2002-07-02 | 60         | 22000.00   | NA         | U          | 5.85       | 0          | 6.19       | 1.8388     | 3          |\n",
       "| 2          | 710        | 2002-07-03 | 60         | 21000.00   | NA         | U          | 5.85       | 0          | 6.19       | 1.8388     | 1          |\n",
       "| 3          | 693        | 2002-07-06 | 60         | 19597.95   | NA         | U          | 5.85       | 1          | 7.29       | 1.8400     | 1          |\n",
       "| 3          | 696        | 2002-07-06 | 60         | 23071.00   | NA         | U          | 5.85       | 0          | 7.29       | 1.8400     | 3          |\n",
       "| 3          | 697        | 2002-07-08 | 60         | 21577.70   | NA         | U          | 5.80       | 1          | 7.29       | 1.8400     | 2          |\n",
       "| 2          | 702        | 2002-07-08 | 60         | 20211.04   | NA         | U          | 5.80       | 1          | 6.19       | 1.8400     | 2          |\n",
       "\n"
      ],
      "text/plain": [
       "  Tier FICO Approve Date Term Amount   Previous APR Car  Type Competition APR\n",
       "1 2    702  2002-07-02   60   22000.00 NA           U         5.85           \n",
       "2 2    710  2002-07-03   60   21000.00 NA           U         5.85           \n",
       "3 3    693  2002-07-06   60   19597.95 NA           U         5.85           \n",
       "4 3    696  2002-07-06   60   23071.00 NA           U         5.85           \n",
       "5 3    697  2002-07-08   60   21577.70 NA           U         5.80           \n",
       "6 2    702  2002-07-08   60   20211.04 NA           U         5.80           \n",
       "  Accept APR  Prime  Partner Bin\n",
       "1 0      6.19 1.8388 3          \n",
       "2 0      6.19 1.8388 1          \n",
       "3 1      7.29 1.8400 1          \n",
       "4 0      7.29 1.8400 3          \n",
       "5 1      7.29 1.8400 2          \n",
       "6 1      6.19 1.8400 2          "
      ]
     },
     "metadata": {},
     "output_type": "display_data"
    }
   ],
   "source": [
    "head(eCar_df)"
   ]
  },
  {
   "cell_type": "markdown",
   "metadata": {},
   "source": [
    "Revisamos la estructura del dataframe"
   ]
  },
  {
   "cell_type": "code",
   "execution_count": 4,
   "metadata": {
    "scrolled": true
   },
   "outputs": [
    {
     "name": "stdout",
     "output_type": "stream",
     "text": [
      "Classes 'tbl_df', 'tbl' and 'data.frame':\t1540 obs. of  12 variables:\n",
      " $ Tier           : num  2 2 3 3 3 2 2 3 3 2 ...\n",
      " $ FICO           : num  702 710 693 696 697 702 709 690 684 706 ...\n",
      " $ Approve Date   : POSIXct, format: \"2002-07-02\" \"2002-07-03\" ...\n",
      " $ Term           : num  60 60 60 60 60 60 60 60 60 60 ...\n",
      " $ Amount         : num  22000 21000 19598 23071 21578 ...\n",
      " $ Previous APR   : logi  NA NA NA NA NA NA ...\n",
      " $ Car  Type      : chr  \"U\" \"U\" \"U\" \"U\" ...\n",
      " $ Competition APR: num  5.85 5.85 5.85 5.85 5.8 5.8 5.8 5.8 5.8 5.8 ...\n",
      " $ Accept         : num  0 0 1 0 1 1 1 0 1 0 ...\n",
      " $ APR            : num  6.19 6.19 7.29 7.29 7.29 6.19 6.19 7.29 7.29 6.19 ...\n",
      " $ Prime          : num  1.84 1.84 1.84 1.84 1.84 ...\n",
      " $ Partner Bin    : num  3 1 1 3 2 2 1 1 3 1 ...\n"
     ]
    }
   ],
   "source": [
    "str(eCar_df)\n"
   ]
  },
  {
   "cell_type": "markdown",
   "metadata": {},
   "source": [
    "Revisamos indicadores estadísticos generales de los atributos"
   ]
  },
  {
   "cell_type": "code",
   "execution_count": 5,
   "metadata": {
    "scrolled": false
   },
   "outputs": [
    {
     "data": {
      "text/plain": [
       "      Tier            FICO        Approve Date                      Term   \n",
       " Min.   :1.000   Min.   :684.0   Min.   :2002-07-02 00:00:00   Min.   :60  \n",
       " 1st Qu.:2.000   1st Qu.:691.0   1st Qu.:2003-10-26 12:00:00   1st Qu.:60  \n",
       " Median :3.000   Median :698.0   Median :2004-04-12 00:00:00   Median :60  \n",
       " Mean   :2.469   Mean   :698.1   Mean   :2004-02-11 13:11:03   Mean   :60  \n",
       " 3rd Qu.:3.000   3rd Qu.:705.0   3rd Qu.:2004-08-16 00:00:00   3rd Qu.:60  \n",
       " Max.   :4.000   Max.   :712.0   Max.   :2004-11-16 00:00:00   Max.   :60  \n",
       "     Amount      Previous APR    Car  Type         Competition APR\n",
       " Min.   :17808   Mode:logical   Length:1540        Min.   :4.090  \n",
       " 1st Qu.:20000   NA's:1540      Class :character   1st Qu.:4.650  \n",
       " Median :21838                  Mode  :character   Median :4.790  \n",
       " Mean   :21737                                     Mean   :4.854  \n",
       " 3rd Qu.:24000                                     3rd Qu.:5.050  \n",
       " Max.   :25000                                     Max.   :5.850  \n",
       "     Accept            APR             Prime        Partner Bin  \n",
       " Min.   :0.0000   Min.   : 4.080   Min.   :1.035   Min.   :1.00  \n",
       " 1st Qu.:0.0000   1st Qu.: 5.690   1st Qu.:1.100   1st Qu.:1.00  \n",
       " Median :0.0000   Median : 6.190   Median :1.320   Median :2.00  \n",
       " Mean   :0.3532   Mean   : 6.449   Mean   :1.412   Mean   :1.92  \n",
       " 3rd Qu.:1.0000   3rd Qu.: 7.240   3rd Qu.:1.790   3rd Qu.:3.00  \n",
       " Max.   :1.0000   Max.   :12.330   Max.   :2.127   Max.   :3.00  "
      ]
     },
     "metadata": {},
     "output_type": "display_data"
    }
   ],
   "source": [
    "summary(eCar_df)"
   ]
  },
  {
   "cell_type": "markdown",
   "metadata": {},
   "source": [
    "Usamos la función attach para poder acceder variables del dataframe sin llamar al dataframe"
   ]
  },
  {
   "cell_type": "code",
   "execution_count": 6,
   "metadata": {
    "scrolled": true
   },
   "outputs": [],
   "source": [
    "attach(eCar_df)"
   ]
  },
  {
   "cell_type": "markdown",
   "metadata": {},
   "source": [
    "Graficamos la tasa de interés APR contra aceptación de la tasa por el cliente"
   ]
  },
  {
   "cell_type": "code",
   "execution_count": 7,
   "metadata": {
    "scrolled": false
   },
   "outputs": [
    {
     "data": {
      "image/png": "[encoded data removed]",
      "text/plain": [
       "plot without title"
      ]
     },
     "metadata": {},
     "output_type": "display_data"
    }
   ],
   "source": [
    "plot(APR, Accept)"
   ]
  },
  {
   "cell_type": "markdown",
   "metadata": {},
   "source": [
    "Eliminamos outliers APR>=10"
   ]
  },
  {
   "cell_type": "code",
   "execution_count": 8,
   "metadata": {
    "scrolled": true
   },
   "outputs": [],
   "source": [
    "eCar_df = subset(eCar_df,APR<10)"
   ]
  },
  {
   "cell_type": "markdown",
   "metadata": {},
   "source": [
    "Ploteamos FICO/APR coloreando por Accept para tener una idea del comportamiento de aceptación según FICO y APR"
   ]
  },
  {
   "cell_type": "code",
   "execution_count": 9,
   "metadata": {
    "scrolled": false
   },
   "outputs": [
    {
     "data": {
      "image/png": "[encoded data removed]",
      "text/plain": [
       "plot without title"
      ]
     },
     "metadata": {},
     "output_type": "display_data"
    }
   ],
   "source": [
    "plot(eCar_df$FICO, eCar_df$APR, col= ifelse(Accept >0,\"blue\",\"red\"))"
   ]
  },
  {
   "cell_type": "code",
   "execution_count": 10,
   "metadata": {
    "scrolled": false
   },
   "outputs": [
    {
     "name": "stderr",
     "output_type": "stream",
     "text": [
      "\n",
      "Attaching package: 'gplots'\n",
      "\n",
      "The following object is masked from 'package:stats':\n",
      "\n",
      "    lowess\n",
      "\n"
     ]
    }
   ],
   "source": [
    "#install.packages('gplots')\n",
    "library(gplots)"
   ]
  },
  {
   "cell_type": "markdown",
   "metadata": {},
   "source": [
    "Redondeamos la tasa al 0.5 superior y volvemos a plottear con la tasa redondeada"
   ]
  },
  {
   "cell_type": "code",
   "execution_count": 11,
   "metadata": {
    "scrolled": true
   },
   "outputs": [],
   "source": [
    "eCar_df$APRround = ceiling(eCar_df$APR / 0.5)*0.5"
   ]
  },
  {
   "cell_type": "code",
   "execution_count": 14,
   "metadata": {
    "scrolled": false
   },
   "outputs": [
    {
     "data": {
      "image/png": "[encoded data removed]",
      "text/plain": [
       "plot without title"
      ]
     },
     "metadata": {},
     "output_type": "display_data"
    }
   ],
   "source": [
    "plot(eCar_df$FICO, eCar_df$APRround, col= ifelse(Accept >0,\"blue\",\"red\"))"
   ]
  },
  {
   "cell_type": "code",
   "execution_count": 15,
   "metadata": {
    "scrolled": false
   },
   "outputs": [
    {
     "data": {
      "image/png": "[encoded data removed]",
      "text/plain": [
       "plot without title"
      ]
     },
     "metadata": {},
     "output_type": "display_data"
    }
   ],
   "source": [
    "plotmeans(Accept ~ APRround, data = eCar_df)\n"
   ]
  },
  {
   "cell_type": "markdown",
   "metadata": {},
   "source": [
    "Corremos una regresión lineal Accept=a+b⋅APR+ϵ"
   ]
  },
  {
   "cell_type": "code",
   "execution_count": 42,
   "metadata": {},
   "outputs": [
    {
     "data": {
      "text/plain": [
       "\n",
       "Call:\n",
       "lm(formula = eCar_df$Accept ~ eCar_df$APR, data = eCar_df)\n",
       "\n",
       "Residuals:\n",
       "     Min       1Q   Median       3Q      Max \n",
       "-0.72554 -0.38765 -0.00712  0.38331  1.04730 \n",
       "\n",
       "Coefficients:\n",
       "             Estimate Std. Error t value Pr(>|t|)    \n",
       "(Intercept)  1.521961   0.054370   27.99   <2e-16 ***\n",
       "eCar_df$APR -0.181418   0.008275  -21.92   <2e-16 ***\n",
       "---\n",
       "Signif. codes:  0 '***' 0.001 '**' 0.01 '*' 0.05 '.' 0.1 ' ' 1\n",
       "\n",
       "Residual standard error: 0.4174 on 1536 degrees of freedom\n",
       "Multiple R-squared:  0.2383,\tAdjusted R-squared:  0.2378 \n",
       "F-statistic: 480.6 on 1 and 1536 DF,  p-value: < 2.2e-16\n"
      ]
     },
     "metadata": {},
     "output_type": "display_data"
    },
    {
     "data": {
      "text/html": [
       "0.417369035517327"
      ],
      "text/latex": [
       "0.417369035517327"
      ],
      "text/markdown": [
       "0.417369035517327"
      ],
      "text/plain": [
       "[1] 0.417369"
      ]
     },
     "metadata": {},
     "output_type": "display_data"
    },
    {
     "data": {
      "text/html": [
       "0.353055916775033"
      ],
      "text/latex": [
       "0.353055916775033"
      ],
      "text/markdown": [
       "0.353055916775033"
      ],
      "text/plain": [
       "[1] 0.3530559"
      ]
     },
     "metadata": {},
     "output_type": "display_data"
    },
    {
     "data": {
      "text/html": [
       "1.18216128292016"
      ],
      "text/latex": [
       "1.18216128292016"
      ],
      "text/markdown": [
       "1.18216128292016"
      ],
      "text/plain": [
       "[1] 1.182161"
      ]
     },
     "metadata": {},
     "output_type": "display_data"
    }
   ],
   "source": [
    "linear_model = lm(eCar_df$Accept ~ eCar_df$APR , data=eCar_df)\n",
    "summary(linear_model)\n",
    "sigma(linear_model)\n",
    "mean(eCar_df$Accept)\n",
    "sigma(linear_model)/mean(eCar_df$Accept)"
   ]
  },
  {
   "cell_type": "markdown",
   "metadata": {},
   "source": [
    "Corremos una regresión lineal Accept=a+b1⋅APR+b2⋅FICO+ϵ"
   ]
  },
  {
   "cell_type": "code",
   "execution_count": 43,
   "metadata": {},
   "outputs": [
    {
     "data": {
      "text/plain": [
       "\n",
       "Call:\n",
       "lm(formula = eCar_df$Accept ~ eCar_df$APR + eCar_df$FICO, data = eCar_df)\n",
       "\n",
       "Residuals:\n",
       "     Min       1Q   Median       3Q      Max \n",
       "-0.85126 -0.36704 -0.02519  0.35268  1.10110 \n",
       "\n",
       "Coefficients:\n",
       "              Estimate Std. Error t value Pr(>|t|)    \n",
       "(Intercept)   8.104869   0.991101   8.178 6.00e-16 ***\n",
       "eCar_df$APR  -0.206282   0.008976 -22.981  < 2e-16 ***\n",
       "eCar_df$FICO -0.009200   0.001383  -6.652 4.02e-11 ***\n",
       "---\n",
       "Signif. codes:  0 '***' 0.001 '**' 0.01 '*' 0.05 '.' 0.1 ' ' 1\n",
       "\n",
       "Residual standard error: 0.4116 on 1535 degrees of freedom\n",
       "Multiple R-squared:  0.2597,\tAdjusted R-squared:  0.2587 \n",
       "F-statistic: 269.2 on 2 and 1535 DF,  p-value: < 2.2e-16\n"
      ]
     },
     "metadata": {},
     "output_type": "display_data"
    },
    {
     "data": {
      "text/html": [
       "0.411614780554407"
      ],
      "text/latex": [
       "0.411614780554407"
      ],
      "text/markdown": [
       "0.411614780554407"
      ],
      "text/plain": [
       "[1] 0.4116148"
      ]
     },
     "metadata": {},
     "output_type": "display_data"
    },
    {
     "data": {
      "text/html": [
       "0.353055916775033"
      ],
      "text/latex": [
       "0.353055916775033"
      ],
      "text/markdown": [
       "0.353055916775033"
      ],
      "text/plain": [
       "[1] 0.3530559"
      ]
     },
     "metadata": {},
     "output_type": "display_data"
    },
    {
     "data": {
      "text/html": [
       "1.16586285910254"
      ],
      "text/latex": [
       "1.16586285910254"
      ],
      "text/markdown": [
       "1.16586285910254"
      ],
      "text/plain": [
       "[1] 1.165863"
      ]
     },
     "metadata": {},
     "output_type": "display_data"
    }
   ],
   "source": [
    "linear_model_2 = lm(eCar_df$Accept ~ eCar_df$APR + eCar_df$FICO , data=eCar_df)\n",
    "summary(linear_model_2)\n",
    "sigma(linear_model_2)\n",
    "mean(eCar_df$Accept)\n",
    "sigma(linear_model_2)/mean(eCar_df$Accept)"
   ]
  },
  {
   "cell_type": "code",
   "execution_count": 82,
   "metadata": {
    "scrolled": false
   },
   "outputs": [
    {
     "data": {
      "text/plain": [
       "\n",
       "Call:\n",
       "glm(formula = Accept ~ APR, family = binomial, data = eCar_df)\n",
       "\n",
       "Deviance Residuals: \n",
       "    Min       1Q   Median       3Q      Max  \n",
       "-1.8248  -0.8966  -0.2918   0.8761   2.6508  \n",
       "\n",
       "Coefficients:\n",
       "            Estimate Std. Error z value Pr(>|z|)    \n",
       "(Intercept)  6.54415    0.42889   15.26   <2e-16 ***\n",
       "APR         -1.15921    0.07118  -16.29   <2e-16 ***\n",
       "---\n",
       "Signif. codes:  0 '***' 0.001 '**' 0.01 '*' 0.05 '.' 0.1 ' ' 1\n",
       "\n",
       "(Dispersion parameter for binomial family taken to be 1)\n",
       "\n",
       "    Null deviance: 1997.3  on 1537  degrees of freedom\n",
       "Residual deviance: 1557.3  on 1536  degrees of freedom\n",
       "AIC: 1561.3\n",
       "\n",
       "Number of Fisher Scoring iterations: 5\n"
      ]
     },
     "metadata": {},
     "output_type": "display_data"
    }
   ],
   "source": [
    "logit_model = glm(Accept ~ APR, data=eCar_df,family=binomial)\n",
    "summary(logit_model)"
   ]
  },
  {
   "cell_type": "code",
   "execution_count": 46,
   "metadata": {
    "scrolled": true
   },
   "outputs": [
    {
     "data": {
      "text/html": [
       "<ol class=list-inline>\n",
       "\t<li>3</li>\n",
       "\t<li>3.1</li>\n",
       "\t<li>3.2</li>\n",
       "\t<li>3.3</li>\n",
       "\t<li>3.4</li>\n",
       "\t<li>3.5</li>\n",
       "\t<li>3.6</li>\n",
       "\t<li>3.7</li>\n",
       "\t<li>3.8</li>\n",
       "\t<li>3.9</li>\n",
       "\t<li>4</li>\n",
       "\t<li>4.1</li>\n",
       "\t<li>4.2</li>\n",
       "\t<li>4.3</li>\n",
       "\t<li>4.4</li>\n",
       "\t<li>4.5</li>\n",
       "\t<li>4.6</li>\n",
       "\t<li>4.7</li>\n",
       "\t<li>4.8</li>\n",
       "\t<li>4.9</li>\n",
       "\t<li>5</li>\n",
       "\t<li>5.1</li>\n",
       "\t<li>5.2</li>\n",
       "\t<li>5.3</li>\n",
       "\t<li>5.4</li>\n",
       "\t<li>5.5</li>\n",
       "\t<li>5.6</li>\n",
       "\t<li>5.7</li>\n",
       "\t<li>5.8</li>\n",
       "\t<li>5.9</li>\n",
       "\t<li>6</li>\n",
       "\t<li>6.1</li>\n",
       "\t<li>6.2</li>\n",
       "\t<li>6.3</li>\n",
       "\t<li>6.4</li>\n",
       "\t<li>6.5</li>\n",
       "\t<li>6.6</li>\n",
       "\t<li>6.7</li>\n",
       "\t<li>6.8</li>\n",
       "\t<li>6.9</li>\n",
       "\t<li>7</li>\n",
       "\t<li>7.1</li>\n",
       "\t<li>7.2</li>\n",
       "\t<li>7.3</li>\n",
       "\t<li>7.4</li>\n",
       "\t<li>7.5</li>\n",
       "\t<li>7.6</li>\n",
       "\t<li>7.7</li>\n",
       "\t<li>7.8</li>\n",
       "\t<li>7.9</li>\n",
       "\t<li>8</li>\n",
       "</ol>\n"
      ],
      "text/latex": [
       "\\begin{enumerate*}\n",
       "\\item 3\n",
       "\\item 3.1\n",
       "\\item 3.2\n",
       "\\item 3.3\n",
       "\\item 3.4\n",
       "\\item 3.5\n",
       "\\item 3.6\n",
       "\\item 3.7\n",
       "\\item 3.8\n",
       "\\item 3.9\n",
       "\\item 4\n",
       "\\item 4.1\n",
       "\\item 4.2\n",
       "\\item 4.3\n",
       "\\item 4.4\n",
       "\\item 4.5\n",
       "\\item 4.6\n",
       "\\item 4.7\n",
       "\\item 4.8\n",
       "\\item 4.9\n",
       "\\item 5\n",
       "\\item 5.1\n",
       "\\item 5.2\n",
       "\\item 5.3\n",
       "\\item 5.4\n",
       "\\item 5.5\n",
       "\\item 5.6\n",
       "\\item 5.7\n",
       "\\item 5.8\n",
       "\\item 5.9\n",
       "\\item 6\n",
       "\\item 6.1\n",
       "\\item 6.2\n",
       "\\item 6.3\n",
       "\\item 6.4\n",
       "\\item 6.5\n",
       "\\item 6.6\n",
       "\\item 6.7\n",
       "\\item 6.8\n",
       "\\item 6.9\n",
       "\\item 7\n",
       "\\item 7.1\n",
       "\\item 7.2\n",
       "\\item 7.3\n",
       "\\item 7.4\n",
       "\\item 7.5\n",
       "\\item 7.6\n",
       "\\item 7.7\n",
       "\\item 7.8\n",
       "\\item 7.9\n",
       "\\item 8\n",
       "\\end{enumerate*}\n"
      ],
      "text/markdown": [
       "1. 3\n",
       "2. 3.1\n",
       "3. 3.2\n",
       "4. 3.3\n",
       "5. 3.4\n",
       "6. 3.5\n",
       "7. 3.6\n",
       "8. 3.7\n",
       "9. 3.8\n",
       "10. 3.9\n",
       "11. 4\n",
       "12. 4.1\n",
       "13. 4.2\n",
       "14. 4.3\n",
       "15. 4.4\n",
       "16. 4.5\n",
       "17. 4.6\n",
       "18. 4.7\n",
       "19. 4.8\n",
       "20. 4.9\n",
       "21. 5\n",
       "22. 5.1\n",
       "23. 5.2\n",
       "24. 5.3\n",
       "25. 5.4\n",
       "26. 5.5\n",
       "27. 5.6\n",
       "28. 5.7\n",
       "29. 5.8\n",
       "30. 5.9\n",
       "31. 6\n",
       "32. 6.1\n",
       "33. 6.2\n",
       "34. 6.3\n",
       "35. 6.4\n",
       "36. 6.5\n",
       "37. 6.6\n",
       "38. 6.7\n",
       "39. 6.8\n",
       "40. 6.9\n",
       "41. 7\n",
       "42. 7.1\n",
       "43. 7.2\n",
       "44. 7.3\n",
       "45. 7.4\n",
       "46. 7.5\n",
       "47. 7.6\n",
       "48. 7.7\n",
       "49. 7.8\n",
       "50. 7.9\n",
       "51. 8\n",
       "\n",
       "\n"
      ],
      "text/plain": [
       " [1] 3.0 3.1 3.2 3.3 3.4 3.5 3.6 3.7 3.8 3.9 4.0 4.1 4.2 4.3 4.4 4.5 4.6 4.7 4.8\n",
       "[20] 4.9 5.0 5.1 5.2 5.3 5.4 5.5 5.6 5.7 5.8 5.9 6.0 6.1 6.2 6.3 6.4 6.5 6.6 6.7\n",
       "[39] 6.8 6.9 7.0 7.1 7.2 7.3 7.4 7.5 7.6 7.7 7.8 7.9 8.0"
      ]
     },
     "metadata": {},
     "output_type": "display_data"
    }
   ],
   "source": [
    "xAPR = seq(3,8,0.1)\n",
    "xAPR"
   ]
  },
  {
   "cell_type": "code",
   "execution_count": 55,
   "metadata": {
    "scrolled": true
   },
   "outputs": [],
   "source": [
    "yhat = predict(logit_model, list(APR=xAPR),type=\"response\")"
   ]
  },
  {
   "cell_type": "code",
   "execution_count": 70,
   "metadata": {
    "scrolled": false
   },
   "outputs": [
    {
     "data": {
      "image/png": "[encoded data removed]",
      "text/plain": [
       "plot without title"
      ]
     },
     "metadata": {},
     "output_type": "display_data"
    }
   ],
   "source": [
    "plot (eCar_df$APR, eCar_df$Accept, col= ifelse(Accept >0,\"blue\",\"red\"))\n",
    "lines (xAPR, yhat)"
   ]
  },
  {
   "cell_type": "code",
   "execution_count": 72,
   "metadata": {
    "scrolled": true
   },
   "outputs": [],
   "source": [
    "xAPRround = seq(4.25,8.75,0.5) # predict at the mid-value of each interval"
   ]
  },
  {
   "cell_type": "code",
   "execution_count": 73,
   "metadata": {
    "scrolled": true
   },
   "outputs": [],
   "source": [
    "yhat2 = predict(logit_model, list(APR=xAPRround),type=\"response\")"
   ]
  },
  {
   "cell_type": "code",
   "execution_count": 78,
   "metadata": {
    "scrolled": false
   },
   "outputs": [
    {
     "data": {
      "image/png": "[encoded data removed]",
      "text/plain": [
       "plot without title"
      ]
     },
     "metadata": {},
     "output_type": "display_data"
    }
   ],
   "source": [
    "plotmeans(Accept ~ APRround, data = eCar_df)\n",
    "lines(1:10,yhat2)"
   ]
  },
  {
   "cell_type": "code",
   "execution_count": 83,
   "metadata": {
    "scrolled": false
   },
   "outputs": [
    {
     "data": {
      "text/plain": [
       "\n",
       "Call:\n",
       "glm(formula = Accept ~ APR + FICO + eCar_df$\"Competition APR\", \n",
       "    family = binomial, data = eCar_df)\n",
       "\n",
       "Deviance Residuals: \n",
       "    Min       1Q   Median       3Q      Max  \n",
       "-2.0464  -0.8630  -0.3078   0.8099   2.7513  \n",
       "\n",
       "Coefficients:\n",
       "                           Estimate Std. Error z value Pr(>|z|)    \n",
       "(Intercept)               36.851966   5.778573   6.377 1.80e-10 ***\n",
       "APR                       -1.278104   0.074418 -17.175  < 2e-16 ***\n",
       "FICO                      -0.044539   0.008072  -5.518 3.44e-08 ***\n",
       "eCar_df$\"Competition APR\"  0.319419   0.171370   1.864   0.0623 .  \n",
       "---\n",
       "Signif. codes:  0 '***' 0.001 '**' 0.01 '*' 0.05 '.' 0.1 ' ' 1\n",
       "\n",
       "(Dispersion parameter for binomial family taken to be 1)\n",
       "\n",
       "    Null deviance: 1997.3  on 1537  degrees of freedom\n",
       "Residual deviance: 1523.8  on 1534  degrees of freedom\n",
       "AIC: 1531.8\n",
       "\n",
       "Number of Fisher Scoring iterations: 5\n"
      ]
     },
     "metadata": {},
     "output_type": "display_data"
    }
   ],
   "source": [
    "logit2_model = glm(Accept ~ APR + FICO + eCar_df$\"Competition APR\", data=eCar_df,family=binomial)\n",
    "summary (logit2_model)"
   ]
  },
  {
   "cell_type": "code",
   "execution_count": 81,
   "metadata": {
    "scrolled": true
   },
   "outputs": [
    {
     "ename": "ERROR",
     "evalue": "Error in library(stargazer): there is no package called 'stargazer'\n",
     "output_type": "error",
     "traceback": [
      "Error in library(stargazer): there is no package called 'stargazer'\nTraceback:\n",
      "1. library(stargazer)"
     ]
    }
   ],
   "source": [
    "install\n",
    "library(stargazer)"
   ]
  },
  {
   "cell_type": "code",
   "execution_count": null,
   "metadata": {
    "scrolled": true
   },
   "outputs": [],
   "source": [
    "stargazer(logit_model, logit2_model, type=\"text\")"
   ]
  }
 ],
 "metadata": {
  "celltoolbar": "Raw Cell Format",
  "kernelspec": {
   "display_name": "R",
   "language": "R",
   "name": "ir"
  },
  "language_info": {
   "codemirror_mode": "r",
   "file_extension": ".r",
   "mimetype": "text/x-r-source",
   "name": "R",
   "pygments_lexer": "r",
   "version": "3.6.1"
  }
 },
 "nbformat": 4,
 "nbformat_minor": 2
}
